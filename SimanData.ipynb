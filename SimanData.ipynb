{
 "cells": [
  {
   "cell_type": "code",
   "execution_count": 0,
   "metadata": {
    "autoscroll": "auto"
   },
   "outputs": [],
   "source": [
    "%spark2.pyspark\n",
    "\n",
    "from pyspark import SparkConf, SparkContext\n",
    "from pyspark.sql import SparkSession\n",
    "from pyspark.sql.functions import regexp_replace, col, when\n",
    "from pyspark.sql.types import IntegerType\n",
    "\n",
    "spark = SparkSession.builder.appName(\"SimanETL\").getOrCreate()\n",
    "\n",
    "simanRawData = spark.read.csv(\"hdfs:///user/hdfs/simanData/rawData/simanRawData.csv\", header=True)"
   ]
  },
  {
   "cell_type": "code",
   "execution_count": 1,
   "metadata": {
    "autoscroll": "auto"
   },
   "outputs": [],
   "source": [
    "%spark2.pyspark\n",
    "\n",
    "simanRawData = simanRawData.na.fill(value=\"0\",subset=[\"Price1\"])\n",
    "\n",
    "simanRawData = simanRawData.na.fill(value=\"0\",subset=[\"Price2\"])\n",
    "\n",
    "simanRawData = simanRawData.na.fill(value=\"0\",subset=[\"Discount\"])\n",
    "\n",
    "simanRawData = simanRawData.na.fill(value=\"Sin imagen\",subset=[\"Image\"])\n",
    "\n",
    "simanRawData = simanRawData.na.fill(value=\"Sin nombre\",subset=[\"Name\"])\n",
    "\n",
    "simanRawData = simanRawData.na.fill(value=\"Sin marca\",subset=[\"Brand\"])\n",
    "\n",
    "simanRawData = simanRawData.na.fill(value=\"Sin link\",subset=[\"Link\"])\n",
    "\n",
    "simanRawData.show()"
   ]
  },
  {
   "cell_type": "code",
   "execution_count": 2,
   "metadata": {
    "autoscroll": "auto"
   },
   "outputs": [],
   "source": [
    "%spark2.pyspark\n",
    "\n",
    "simanRawData = simanRawData.withColumn('Price1', regexp_replace('Price1', 'Q&nbsp;', '')).withColumn('Price1', regexp_replace('Price1', ',', ''))\n",
    "\n",
    "simanRawData = simanRawData.withColumn('Price2', regexp_replace('Price2', 'Q&nbsp;', '')).withColumn('Price2', regexp_replace('Price2', ',', ''))\n",
    "\n",
    "simanRawData = simanRawData.withColumn('Discount', regexp_replace('Discount', '&nbsp;%', ''))\n",
    "\n",
    "simanRawData.show()\n"
   ]
  },
  {
   "cell_type": "code",
   "execution_count": 3,
   "metadata": {
    "autoscroll": "auto"
   },
   "outputs": [],
   "source": [
    "%spark2.pyspark\n",
    "\n",
    "simanRawData = simanRawData.withColumn('Price1', col('Price1').cast(IntegerType()))\n",
    "\n",
    "simanRawData = simanRawData.withColumn('Price2', col('Price2').cast(IntegerType()))\n",
    "\n",
    "simanRawData = simanRawData.withColumn('Discount', col('Discount').cast(IntegerType()))\n",
    "\n",
    "simanRawData.printSchema()\n",
    "\n",
    "\n",
    "\n"
   ]
  },
  {
   "cell_type": "code",
   "execution_count": 4,
   "metadata": {
    "autoscroll": "auto"
   },
   "outputs": [],
   "source": [
    "%spark2.pyspark\n",
    "\n",
    "simanRawData = simanRawData.withColumn('Price', when(simanRawData.Price1 >= simanRawData.Price2, simanRawData.Price1).otherwise(simanRawData.Price2))\n",
    "\n",
    "simanRawData = simanRawData.withColumn('PriceWithDiscount', when(simanRawData.Price1 >= simanRawData.Price2, simanRawData.Price2).otherwise(simanRawData.Price1))\n",
    "\n",
    "simanRawData = simanRawData.drop('Price1')\n",
    "\n",
    "simanRawData = simanRawData.drop('Price2')\n",
    "\n",
    "simanRawData.show()"
   ]
  },
  {
   "cell_type": "code",
   "execution_count": 5,
   "metadata": {
    "autoscroll": "auto"
   },
   "outputs": [],
   "source": [
    "%spark2.pyspark\n",
    "\n",
    "simanRawData.write.save('/user/hdfs/simanData/cleanData', format='csv', mode='append')"
   ]
  }
 ],
 "metadata": {
  "kernelspec": {
   "display_name": "Spark 2.0.0",
   "language": "python",
   "name": "spark2"
  },
  "language_info": {
   "codemirror_mode": "text/python",
   "file_extension": ".py",
   "mimetype": "text/python",
   "name": "scala",
   "pygments_lexer": "python",
   "version": "3.6"
  }
 },
 "nbformat": 4,
 "nbformat_minor": 2
}
